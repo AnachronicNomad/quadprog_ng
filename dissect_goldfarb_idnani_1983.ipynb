{
 "cells": [
  {
   "cell_type": "markdown",
   "metadata": {},
   "source": [
    "# Dissecting Goldfarb-Idnani (1983)\n",
    "\n",
    "D. Goldfarb and A. Idnani wrote a paper, __A numerically stable dual method for solving strictly convex quadratic programs__, in Mathematical Programming 27 (1983) 1-33. \n",
    "\n",
    "It's a little dense, and there aren't awesomely written reference implementations out there.  Part of the goal of this notebook is to 'chainsaw' through it in order to get solid guidance for a Python implementation using NumPy/SciPy, which should aid as a reference for a reviewed implementation in Fortran 90. "
   ]
  },
  {
   "cell_type": "markdown",
   "metadata": {},
   "source": [
    "## Introduction\n",
    "\n",
    "Directly quoting, \n",
    "\n",
    ">   We are concerned in this paper with the strictly convex (positive definite) quadratic programming problem \n",
    ">$$ \\text{min}_x \\quad f(x) = a^T x + \\frac{1}{2} x^T G x $$\n",
    ">\n",
    ">subject to \n",
    ">\n",
    ">$$ s(x) \\equiv C^T x - b \\geq 0 $$\n",
    ">\n",
    "> where $x$ and $a$ are $n$-vectors. $G$ is an $n \\times n$ symmetric positive definite matrix, $C$ is an $n \\times m$ matrix, $b$ is an $m$-vector, and superscript $T$ denotes the transpose.  Although the vector of variables $x$ may also be subject to equality constraints\n",
    "> $$ \\hat{C}\\hspace{0.1em}^T x - \\hat{b} = 0 $$\n",
    "> we shall ignore such constraints for the moment in order to simplify our presentation. \n"
   ]
  },
  {
   "cell_type": "markdown",
   "metadata": {},
   "source": [
    "However, we're also going to note/paraphrase the [Wikipedia article's](https://en.wikipedia.org/wiki/Quadratic_programming#Problem_formulation) notation for the formulation of the quadratic minimization problem. \n",
    "\n",
    "> The quadratic programming problem with $n$ variables and $m$ constraints can be formulated as follows. Given: \n",
    "> * a real-valued $n$-dim vector $\\mathbf{c}$,\n",
    "> * an $n \\times n$-dim real symmetric matrix $Q$,\n",
    "> * an $m \\times n$-dim real matrix $A$, and \n",
    "> * an $m$-dim real vector $\\mathbf{b}$\n",
    ">\n",
    "> The objective of quadratic programming is to find an $n$-dim vector $\\mathbf{x}$, that will\n",
    "> $$\\begin{aligned} \\text{minimize} \\quad & f(x) = \\frac{1}{2} \\mathbf{x}^T Q \\mathbf{x} + \\mathbf{c}^T \\mathbf{x} \\\\ \\text{subject to} \\quad & \\quad A \\mathbf{x} \\preceq \\mathbf{b} \\end{aligned}$$\n"
   ]
  },
  {
   "cell_type": "markdown",
   "metadata": {},
   "source": [
    "In either of these, \n",
    "* $m$ is the number of constraints\n",
    "* $n$ is the number of variables\n",
    "* $\\mathbf{b}$ is the constraint vector\n",
    "* $A$ is a matrix representing the bound/constraint values for each $x_i$. \n",
    "* $Q \\equiv G$ is the positive-definite matrix holding coefficients for the quadratic function. \n",
    "* $\\mathbf{c} \\equiv a$ is ???"
   ]
  },
  {
   "cell_type": "code",
   "execution_count": null,
   "metadata": {},
   "outputs": [],
   "source": []
  }
 ],
 "metadata": {
  "kernelspec": {
   "display_name": "Python 3",
   "language": "python",
   "name": "python3"
  },
  "language_info": {
   "codemirror_mode": {
    "name": "ipython",
    "version": 3
   },
   "file_extension": ".py",
   "mimetype": "text/x-python",
   "name": "python",
   "nbconvert_exporter": "python",
   "pygments_lexer": "ipython3",
   "version": "3.7.3"
  }
 },
 "nbformat": 4,
 "nbformat_minor": 2
}
